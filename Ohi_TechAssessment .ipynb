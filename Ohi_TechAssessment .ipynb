{
 "cells": [
  {
   "cell_type": "markdown",
   "metadata": {},
   "source": [
    "### Imports & Cleaning"
   ]
  },
  {
   "cell_type": "code",
   "execution_count": 24,
   "metadata": {},
   "outputs": [],
   "source": [
    "import pandas as pd\n",
    "import numpy as np\n",
    "from datetime import datetime\n",
    "from uszipcode import SearchEngine, Zipcode\n",
    "import matplotlib.pyplot as plt\n",
    "import seaborn as sns\n",
    "import matplotlib.dates as mdates\n",
    "\n",
    "%matplotlib inline"
   ]
  },
  {
   "cell_type": "code",
   "execution_count": 10,
   "metadata": {},
   "outputs": [],
   "source": [
    "df = pd.read_csv('shipohi_DS_ORDER_TAKEHOME.csv')"
   ]
  },
  {
   "cell_type": "code",
   "execution_count": 11,
   "metadata": {
    "scrolled": true
   },
   "outputs": [
    {
     "data": {
      "text/html": [
       "<div>\n",
       "<style scoped>\n",
       "    .dataframe tbody tr th:only-of-type {\n",
       "        vertical-align: middle;\n",
       "    }\n",
       "\n",
       "    .dataframe tbody tr th {\n",
       "        vertical-align: top;\n",
       "    }\n",
       "\n",
       "    .dataframe thead th {\n",
       "        text-align: right;\n",
       "    }\n",
       "</style>\n",
       "<table border=\"1\" class=\"dataframe\">\n",
       "  <thead>\n",
       "    <tr style=\"text-align: right;\">\n",
       "      <th></th>\n",
       "      <th>Orders Order Number</th>\n",
       "      <th>Orders Shipping Zipcode</th>\n",
       "      <th>Orders Shipping State</th>\n",
       "      <th>Orders Received Date</th>\n",
       "      <th>Orders Line Items Count</th>\n",
       "      <th>Orders Total Weight</th>\n",
       "      <th>Orders Cart Value</th>\n",
       "    </tr>\n",
       "  </thead>\n",
       "  <tbody>\n",
       "    <tr>\n",
       "      <th>0</th>\n",
       "      <td>11815</td>\n",
       "      <td>01020</td>\n",
       "      <td>MA</td>\n",
       "      <td>2019-06-30</td>\n",
       "      <td>1</td>\n",
       "      <td>0</td>\n",
       "      <td>$39.00</td>\n",
       "    </tr>\n",
       "    <tr>\n",
       "      <th>1</th>\n",
       "      <td>12168</td>\n",
       "      <td>01568</td>\n",
       "      <td>MA</td>\n",
       "      <td>2019-07-25</td>\n",
       "      <td>1</td>\n",
       "      <td>0</td>\n",
       "      <td>$54.40</td>\n",
       "    </tr>\n",
       "    <tr>\n",
       "      <th>2</th>\n",
       "      <td>12079</td>\n",
       "      <td>01568</td>\n",
       "      <td>MA</td>\n",
       "      <td>2019-07-17</td>\n",
       "      <td>4</td>\n",
       "      <td>317</td>\n",
       "      <td>$84.20</td>\n",
       "    </tr>\n",
       "    <tr>\n",
       "      <th>3</th>\n",
       "      <td>11862</td>\n",
       "      <td>01778</td>\n",
       "      <td>MA</td>\n",
       "      <td>2019-07-04</td>\n",
       "      <td>2</td>\n",
       "      <td>249</td>\n",
       "      <td>$28.00</td>\n",
       "    </tr>\n",
       "    <tr>\n",
       "      <th>4</th>\n",
       "      <td>11960</td>\n",
       "      <td>02035</td>\n",
       "      <td>MA</td>\n",
       "      <td>2019-07-09</td>\n",
       "      <td>2</td>\n",
       "      <td>90</td>\n",
       "      <td>$80.00</td>\n",
       "    </tr>\n",
       "  </tbody>\n",
       "</table>\n",
       "</div>"
      ],
      "text/plain": [
       "   Orders Order Number Orders Shipping Zipcode Orders Shipping State  \\\n",
       "0                11815                   01020                    MA   \n",
       "1                12168                   01568                    MA   \n",
       "2                12079                   01568                    MA   \n",
       "3                11862                   01778                    MA   \n",
       "4                11960                   02035                    MA   \n",
       "\n",
       "  Orders Received Date  Orders Line Items Count Orders Total Weight  \\\n",
       "0           2019-06-30                        1                   0   \n",
       "1           2019-07-25                        1                   0   \n",
       "2           2019-07-17                        4                 317   \n",
       "3           2019-07-04                        2                 249   \n",
       "4           2019-07-09                        2                  90   \n",
       "\n",
       "  Orders Cart Value  \n",
       "0            $39.00  \n",
       "1            $54.40  \n",
       "2            $84.20  \n",
       "3            $28.00  \n",
       "4            $80.00  "
      ]
     },
     "execution_count": 11,
     "metadata": {},
     "output_type": "execute_result"
    }
   ],
   "source": [
    "df.head()"
   ]
  },
  {
   "cell_type": "code",
   "execution_count": 20,
   "metadata": {},
   "outputs": [],
   "source": [
    "# Changing dates to datetime\n",
    "df['Orders Received Date'] = pd.to_datetime(df['Orders Received Date'])\n",
    "\n",
    "# Sanitizing Zip Codes\n",
    "df['Orders Shipping Zipcode'] = df['Orders Shipping Zipcode'].apply(lambda x: x.split('-')[0])\n",
    "\n",
    "# Sanitizing Cart Value\n",
    "df['Orders Cart Value'] = df['Orders Cart Value'].apply(lambda x: float(x.split('$')[1]))"
   ]
  },
  {
   "cell_type": "code",
   "execution_count": 21,
   "metadata": {},
   "outputs": [
    {
     "data": {
      "text/html": [
       "<div>\n",
       "<style scoped>\n",
       "    .dataframe tbody tr th:only-of-type {\n",
       "        vertical-align: middle;\n",
       "    }\n",
       "\n",
       "    .dataframe tbody tr th {\n",
       "        vertical-align: top;\n",
       "    }\n",
       "\n",
       "    .dataframe thead th {\n",
       "        text-align: right;\n",
       "    }\n",
       "</style>\n",
       "<table border=\"1\" class=\"dataframe\">\n",
       "  <thead>\n",
       "    <tr style=\"text-align: right;\">\n",
       "      <th></th>\n",
       "      <th>Orders Order Number</th>\n",
       "      <th>Orders Shipping Zipcode</th>\n",
       "      <th>Orders Shipping State</th>\n",
       "      <th>Orders Received Date</th>\n",
       "      <th>Orders Line Items Count</th>\n",
       "      <th>Orders Total Weight</th>\n",
       "      <th>Orders Cart Value</th>\n",
       "    </tr>\n",
       "  </thead>\n",
       "  <tbody>\n",
       "    <tr>\n",
       "      <th>0</th>\n",
       "      <td>11815</td>\n",
       "      <td>01020</td>\n",
       "      <td>MA</td>\n",
       "      <td>2019-06-30</td>\n",
       "      <td>1</td>\n",
       "      <td>0</td>\n",
       "      <td>39.0</td>\n",
       "    </tr>\n",
       "    <tr>\n",
       "      <th>1</th>\n",
       "      <td>12168</td>\n",
       "      <td>01568</td>\n",
       "      <td>MA</td>\n",
       "      <td>2019-07-25</td>\n",
       "      <td>1</td>\n",
       "      <td>0</td>\n",
       "      <td>54.4</td>\n",
       "    </tr>\n",
       "    <tr>\n",
       "      <th>2</th>\n",
       "      <td>12079</td>\n",
       "      <td>01568</td>\n",
       "      <td>MA</td>\n",
       "      <td>2019-07-17</td>\n",
       "      <td>4</td>\n",
       "      <td>317</td>\n",
       "      <td>84.2</td>\n",
       "    </tr>\n",
       "    <tr>\n",
       "      <th>3</th>\n",
       "      <td>11862</td>\n",
       "      <td>01778</td>\n",
       "      <td>MA</td>\n",
       "      <td>2019-07-04</td>\n",
       "      <td>2</td>\n",
       "      <td>249</td>\n",
       "      <td>28.0</td>\n",
       "    </tr>\n",
       "    <tr>\n",
       "      <th>4</th>\n",
       "      <td>11960</td>\n",
       "      <td>02035</td>\n",
       "      <td>MA</td>\n",
       "      <td>2019-07-09</td>\n",
       "      <td>2</td>\n",
       "      <td>90</td>\n",
       "      <td>80.0</td>\n",
       "    </tr>\n",
       "  </tbody>\n",
       "</table>\n",
       "</div>"
      ],
      "text/plain": [
       "   Orders Order Number Orders Shipping Zipcode Orders Shipping State  \\\n",
       "0                11815                   01020                    MA   \n",
       "1                12168                   01568                    MA   \n",
       "2                12079                   01568                    MA   \n",
       "3                11862                   01778                    MA   \n",
       "4                11960                   02035                    MA   \n",
       "\n",
       "  Orders Received Date  Orders Line Items Count Orders Total Weight  \\\n",
       "0           2019-06-30                        1                   0   \n",
       "1           2019-07-25                        1                   0   \n",
       "2           2019-07-17                        4                 317   \n",
       "3           2019-07-04                        2                 249   \n",
       "4           2019-07-09                        2                  90   \n",
       "\n",
       "   Orders Cart Value  \n",
       "0               39.0  \n",
       "1               54.4  \n",
       "2               84.2  \n",
       "3               28.0  \n",
       "4               80.0  "
      ]
     },
     "execution_count": 21,
     "metadata": {},
     "output_type": "execute_result"
    }
   ],
   "source": [
    "df.head()"
   ]
  },
  {
   "cell_type": "markdown",
   "metadata": {},
   "source": [
    "## Are orders consistent throughout the month?\n",
    "What insights can our order dates give us in general, before diving into orders by State?"
   ]
  },
  {
   "cell_type": "code",
   "execution_count": 152,
   "metadata": {},
   "outputs": [
    {
     "data": {
      "text/plain": [
       "31"
      ]
     },
     "execution_count": 152,
     "metadata": {},
     "output_type": "execute_result"
    }
   ],
   "source": [
    "len(order_count_per_day)"
   ]
  },
  {
   "cell_type": "code",
   "execution_count": 180,
   "metadata": {
    "cell_style": "center",
    "scrolled": false
   },
   "outputs": [
    {
     "name": "stdout",
     "output_type": "stream",
     "text": [
      "Summary Statistics for Number of Orders per Day\n",
      "----------------------------------------\n",
      "Average # of Orders:  Order Count Per Day    13.26\n",
      "dtype: float64\n",
      "Median # of Orders:  Order Count Per Day    13.0\n",
      "dtype: float64\n",
      "----------------------------------------\n"
     ]
    },
    {
     "data": {
      "image/png": "[encoded data removed]",
      "text/plain": [
       "<Figure size 1080x504 with 1 Axes>"
      ]
     },
     "metadata": {
      "needs_background": "light"
     },
     "output_type": "display_data"
    },
    {
     "data": {
      "image/png": "[encoded data removed]",
      "text/plain": [
       "<Figure size 576x144 with 1 Axes>"
      ]
     },
     "metadata": {
      "needs_background": "light"
     },
     "output_type": "display_data"
    }
   ],
   "source": [
    "order_count_per_day = df.groupby(\n",
    "    [df[\"Orders Received Date\"]]).size().reset_index(name='Order Count Per Day').set_index(\"Orders Received Date\")\n",
    "\n",
    "print('Summary Statistics for Number of Orders per Day')\n",
    "print('----------------------------------------')\n",
    "print(\"Average # of Orders: \", round(order_count_per_day.mean(),2))\n",
    "print(\"Median # of Orders: \", round(order_count_per_day.median(),2))\n",
    "print('----------------------------------------')\n",
    "\n",
    "# plotting distribution\n",
    "x=order_count_per_day.index\n",
    "y=order_count_per_day['Order Count Per Day']\n",
    "fig, ax = plt.subplots(figsize=(15,7))\n",
    "\n",
    "ax.bar(x,y)\n",
    "ax.set_xticks(x[::])\n",
    "ax.set_xticklabels(x[::], rotation=90)\n",
    "ax.set_title('Num Orders per Day')\n",
    "#set major ticks format\n",
    "ax.xaxis.set_major_formatter(mdates.DateFormatter('%b-%d'))\n",
    "                                                   \n",
    "                                                      \n",
    "# plot data\n",
    "plt.subplots(figsize=(8,2))\n",
    "plt.title('Num Orders per Day')\n",
    "sns.boxplot(order_count_per_day)\n",
    "\n",
    "plt.show()"
   ]
  },
  {
   "cell_type": "code",
   "execution_count": 202,
   "metadata": {
    "cell_style": "center",
    "scrolled": false
   },
   "outputs": [
    {
     "name": "stdout",
     "output_type": "stream",
     "text": [
      "Summary Statistics for Line Items Ordered per Day\n",
      "----------------------------------------\n",
      "Average Units Ordered:  Orders Line Items Count    27.87\n",
      "dtype: float64\n",
      "Median Units Ordered:  Orders Line Items Count    27.0\n",
      "dtype: float64\n",
      "----------------------------------------\n"
     ]
    },
    {
     "data": {
      "image/png": "[encoded data removed]",
      "text/plain": [
       "<Figure size 1080x504 with 1 Axes>"
      ]
     },
     "metadata": {
      "needs_background": "light"
     },
     "output_type": "display_data"
    },
    {
     "data": {
      "image/png": "[encoded data removed]",
      "text/plain": [
       "<Figure size 576x144 with 1 Axes>"
      ]
     },
     "metadata": {
      "needs_background": "light"
     },
     "output_type": "display_data"
    }
   ],
   "source": [
    "line_items_per_day = df.groupby([df[\"Orders Received Date\"]]).sum()['Orders Line Items Count'].reset_index(\n",
    "    name='Orders Line Items Count').set_index(\"Orders Received Date\")\n",
    "\n",
    "print('Summary Statistics for Line Items Ordered per Day')\n",
    "print('----------------------------------------')\n",
    "print(\"Average Units Ordered: \", round(line_items_per_day.mean(),2))\n",
    "print(\"Median Units Ordered: \", round(line_items_per_day.median(),2))\n",
    "print('----------------------------------------')\n",
    "\n",
    "# plotting distribution\n",
    "x=line_items_per_day.index\n",
    "y=line_items_per_day['Orders Line Items Count']\n",
    "fig, ax = plt.subplots(figsize=(15,7))\n",
    "\n",
    "ax.bar(x,y)\n",
    "ax.set_xticks(x[::])\n",
    "ax.set_xticklabels(x[::], rotation=90)\n",
    "ax.set_title('Line Items Ordered per Day')\n",
    "#set major ticks format\n",
    "ax.xaxis.set_major_formatter(mdates.DateFormatter('%b-%d'))\n",
    "\n",
    "# plot data\n",
    "plt.subplots(figsize=(8,2))\n",
    "plt.title('Line Items Ordered per Day')\n",
    "sns.boxplot(line_items_per_day);\n",
    "\n",
    "plt.show()"
   ]
  },
  {
   "cell_type": "code",
   "execution_count": 203,
   "metadata": {},
   "outputs": [
    {
     "data": {
      "text/html": [
       "<div>\n",
       "<style scoped>\n",
       "    .dataframe tbody tr th:only-of-type {\n",
       "        vertical-align: middle;\n",
       "    }\n",
       "\n",
       "    .dataframe tbody tr th {\n",
       "        vertical-align: top;\n",
       "    }\n",
       "\n",
       "    .dataframe thead th {\n",
       "        text-align: right;\n",
       "    }\n",
       "</style>\n",
       "<table border=\"1\" class=\"dataframe\">\n",
       "  <thead>\n",
       "    <tr style=\"text-align: right;\">\n",
       "      <th></th>\n",
       "      <th>Orders Line Items Count</th>\n",
       "    </tr>\n",
       "    <tr>\n",
       "      <th>Orders Received Date</th>\n",
       "      <th></th>\n",
       "    </tr>\n",
       "  </thead>\n",
       "  <tbody>\n",
       "    <tr>\n",
       "      <th>2019-06-29</th>\n",
       "      <td>10</td>\n",
       "    </tr>\n",
       "    <tr>\n",
       "      <th>2019-06-30</th>\n",
       "      <td>47</td>\n",
       "    </tr>\n",
       "    <tr>\n",
       "      <th>2019-07-01</th>\n",
       "      <td>29</td>\n",
       "    </tr>\n",
       "    <tr>\n",
       "      <th>2019-07-02</th>\n",
       "      <td>31</td>\n",
       "    </tr>\n",
       "    <tr>\n",
       "      <th>2019-07-03</th>\n",
       "      <td>26</td>\n",
       "    </tr>\n",
       "    <tr>\n",
       "      <th>2019-07-04</th>\n",
       "      <td>53</td>\n",
       "    </tr>\n",
       "    <tr>\n",
       "      <th>2019-07-05</th>\n",
       "      <td>50</td>\n",
       "    </tr>\n",
       "    <tr>\n",
       "      <th>2019-07-06</th>\n",
       "      <td>27</td>\n",
       "    </tr>\n",
       "    <tr>\n",
       "      <th>2019-07-07</th>\n",
       "      <td>30</td>\n",
       "    </tr>\n",
       "    <tr>\n",
       "      <th>2019-07-08</th>\n",
       "      <td>45</td>\n",
       "    </tr>\n",
       "    <tr>\n",
       "      <th>2019-07-09</th>\n",
       "      <td>24</td>\n",
       "    </tr>\n",
       "    <tr>\n",
       "      <th>2019-07-10</th>\n",
       "      <td>50</td>\n",
       "    </tr>\n",
       "    <tr>\n",
       "      <th>2019-07-11</th>\n",
       "      <td>38</td>\n",
       "    </tr>\n",
       "    <tr>\n",
       "      <th>2019-07-12</th>\n",
       "      <td>34</td>\n",
       "    </tr>\n",
       "    <tr>\n",
       "      <th>2019-07-13</th>\n",
       "      <td>29</td>\n",
       "    </tr>\n",
       "    <tr>\n",
       "      <th>2019-07-14</th>\n",
       "      <td>22</td>\n",
       "    </tr>\n",
       "    <tr>\n",
       "      <th>2019-07-15</th>\n",
       "      <td>53</td>\n",
       "    </tr>\n",
       "    <tr>\n",
       "      <th>2019-07-16</th>\n",
       "      <td>4</td>\n",
       "    </tr>\n",
       "    <tr>\n",
       "      <th>2019-07-17</th>\n",
       "      <td>29</td>\n",
       "    </tr>\n",
       "    <tr>\n",
       "      <th>2019-07-18</th>\n",
       "      <td>24</td>\n",
       "    </tr>\n",
       "    <tr>\n",
       "      <th>2019-07-19</th>\n",
       "      <td>35</td>\n",
       "    </tr>\n",
       "    <tr>\n",
       "      <th>2019-07-20</th>\n",
       "      <td>17</td>\n",
       "    </tr>\n",
       "    <tr>\n",
       "      <th>2019-07-21</th>\n",
       "      <td>6</td>\n",
       "    </tr>\n",
       "    <tr>\n",
       "      <th>2019-07-22</th>\n",
       "      <td>25</td>\n",
       "    </tr>\n",
       "    <tr>\n",
       "      <th>2019-07-23</th>\n",
       "      <td>34</td>\n",
       "    </tr>\n",
       "    <tr>\n",
       "      <th>2019-07-24</th>\n",
       "      <td>22</td>\n",
       "    </tr>\n",
       "    <tr>\n",
       "      <th>2019-07-25</th>\n",
       "      <td>25</td>\n",
       "    </tr>\n",
       "    <tr>\n",
       "      <th>2019-07-26</th>\n",
       "      <td>21</td>\n",
       "    </tr>\n",
       "    <tr>\n",
       "      <th>2019-07-27</th>\n",
       "      <td>9</td>\n",
       "    </tr>\n",
       "    <tr>\n",
       "      <th>2019-07-28</th>\n",
       "      <td>11</td>\n",
       "    </tr>\n",
       "    <tr>\n",
       "      <th>2019-07-29</th>\n",
       "      <td>4</td>\n",
       "    </tr>\n",
       "  </tbody>\n",
       "</table>\n",
       "</div>"
      ],
      "text/plain": [
       "                      Orders Line Items Count\n",
       "Orders Received Date                         \n",
       "2019-06-29                                 10\n",
       "2019-06-30                                 47\n",
       "2019-07-01                                 29\n",
       "2019-07-02                                 31\n",
       "2019-07-03                                 26\n",
       "2019-07-04                                 53\n",
       "2019-07-05                                 50\n",
       "2019-07-06                                 27\n",
       "2019-07-07                                 30\n",
       "2019-07-08                                 45\n",
       "2019-07-09                                 24\n",
       "2019-07-10                                 50\n",
       "2019-07-11                                 38\n",
       "2019-07-12                                 34\n",
       "2019-07-13                                 29\n",
       "2019-07-14                                 22\n",
       "2019-07-15                                 53\n",
       "2019-07-16                                  4\n",
       "2019-07-17                                 29\n",
       "2019-07-18                                 24\n",
       "2019-07-19                                 35\n",
       "2019-07-20                                 17\n",
       "2019-07-21                                  6\n",
       "2019-07-22                                 25\n",
       "2019-07-23                                 34\n",
       "2019-07-24                                 22\n",
       "2019-07-25                                 25\n",
       "2019-07-26                                 21\n",
       "2019-07-27                                  9\n",
       "2019-07-28                                 11\n",
       "2019-07-29                                  4"
      ]
     },
     "execution_count": 203,
     "metadata": {},
     "output_type": "execute_result"
    }
   ],
   "source": [
    "line_items_per_day"
   ]
  },
  {
   "cell_type": "markdown",
   "metadata": {},
   "source": [
    "Both the number of orders per day and the number of line items ordered per day seems to dip towards the end of the month, but it's really impossible to call that a trend with only one month of data.  \n",
    "\n",
    "We can see that the number of orders spikes around the holiday (Independence Day).  However, the spike in number of orders doesn't translate to such an abnormal spike in number of line items ordered."
   ]
  },
  {
   "cell_type": "markdown",
   "metadata": {},
   "source": [
    "## How much inventory should we be receiving in each state?"
   ]
  },
  {
   "cell_type": "code",
   "execution_count": 73,
   "metadata": {},
   "outputs": [
    {
     "data": {
      "text/plain": [
       "Orders Shipping State\n",
       "CA    191\n",
       "NY     78\n",
       "TX     48\n",
       "WA     40\n",
       "CO     36\n",
       "MD     33\n",
       "OR     33\n",
       "IL     27\n",
       "MN     26\n",
       "CT     25\n",
       "FL     25\n",
       "MA     25\n",
       "NJ     23\n",
       "VA     20\n",
       "MI     18\n",
       "GA     18\n",
       "NV     16\n",
       "OH     15\n",
       "UT     15\n",
       "NC     14\n",
       "WI     13\n",
       "IA     12\n",
       "NH     10\n",
       "PA     10\n",
       "AZ     10\n",
       "TN      9\n",
       "NM      8\n",
       "AL      8\n",
       "MO      8\n",
       "DC      7\n",
       "WY      6\n",
       "IN      6\n",
       "ME      5\n",
       "ND      5\n",
       "SC      5\n",
       "AK      5\n",
       "KY      3\n",
       "AR      3\n",
       "RI      2\n",
       "KS      1\n",
       "OK      1\n",
       "SD      1\n",
       "Name: Orders Line Items Count, dtype: int64"
      ]
     },
     "execution_count": 73,
     "metadata": {},
     "output_type": "execute_result"
    }
   ],
   "source": [
    "# Line Item Count by state\n",
    "item_per_state = df.groupby('Orders Shipping State').sum()['Orders Line Items Count'].sort_values(ascending=False)\n",
    "item_per_state"
   ]
  },
  {
   "cell_type": "code",
   "execution_count": 141,
   "metadata": {
    "cell_style": "split"
   },
   "outputs": [
    {
     "name": "stdout",
     "output_type": "stream",
     "text": [
      "Summary Statistics for States with Sales\n",
      "----------------------------------------\n",
      "Average Units Per State:  20.57\n",
      "Median Units Per State:  12.5\n",
      "Mode Units Per State:  5\n",
      "----------------------------------------\n"
     ]
    },
    {
     "data": {
      "image/png": "[encoded data removed]",
      "text/plain": [
       "<Figure size 432x288 with 2 Axes>"
      ]
     },
     "metadata": {
      "needs_background": "light"
     },
     "output_type": "display_data"
    }
   ],
   "source": [
    "# Line Item Count by state summary statistics \n",
    "print('Summary Statistics for States with Sales')\n",
    "print('----------------------------------------')\n",
    "print(\"Average Units Per State: \", round(item_per_state.mean(),2))\n",
    "print(\"Median Units Per State: \", round(item_per_state.median(),2))\n",
    "print(\"Mode Units Per State: \", item_per_state.mode()[0])\n",
    "print('----------------------------------------')\n",
    "\n",
    "\n",
    "#plotting distribution\n",
    "plt.subplot(1,2,1)\n",
    "plt.title('Distribution of Units per State')\n",
    "sns.distplot(item_per_state);\n",
    "\n",
    "plt.subplot(1,2,2)\n",
    "plt.title('Distribution of Units per State')\n",
    "sns.boxplot(item_per_state);"
   ]
  },
  {
   "cell_type": "code",
   "execution_count": 142,
   "metadata": {
    "cell_style": "split"
   },
   "outputs": [
    {
     "name": "stdout",
     "output_type": "stream",
     "text": [
      "Summary Statistics for States with Sales Excluding CA & NY\n",
      "----------------------------------------\n",
      "Average Units Per State:  14.88\n",
      "Median Units Per State:  11.0\n",
      "Mode Units Per State:  5\n",
      "----------------------------------------\n"
     ]
    },
    {
     "data": {
      "image/png": "[encoded data removed]",
      "text/plain": [
       "<Figure size 432x288 with 2 Axes>"
      ]
     },
     "metadata": {
      "needs_background": "light"
     },
     "output_type": "display_data"
    }
   ],
   "source": [
    "# Line Item Count by state (ex CA & NY) summary statistics \n",
    "print('Summary Statistics for States with Sales Excluding CA & NY')\n",
    "print('----------------------------------------')\n",
    "ex_ca_ny = item_per_state.drop(['CA','NY'])\n",
    "print(\"Average Units Per State: \", round(ex_ca_ny.mean(),2))\n",
    "print(\"Median Units Per State: \", round(ex_ca_ny.median(),2))\n",
    "print(\"Mode Units Per State: \", ex_ca_ny.mode()[0])\n",
    "print('----------------------------------------')\n",
    "\n",
    "#plotting distribution\n",
    "plt.subplot(1,2,1)\n",
    "plt.title('Distr. Units per State Ex. Cali')\n",
    "sns.distplot(ex_ca_ny);\n",
    "\n",
    "plt.subplot(1,2,2)\n",
    "plt.title('Distr. Units per State Ex. Cali')\n",
    "sns.boxplot(ex_ca_ny);"
   ]
  },
  {
   "cell_type": "markdown",
   "metadata": {},
   "source": [
    "California and NY sell more line items than any other state.  We can see with our boxplot on the left that both states sell more that 1.5 times the IQR, leaving them as outliers. So, the summary statistics of the Line Items ordered per state are better looked at excluding both California and NY.  On average, there were about 15 Units ordered per state that this company did business in.  However, the median # of Units was only 11. "
   ]
  },
  {
   "cell_type": "markdown",
   "metadata": {},
   "source": [
    "## Which states have the highest price per unit?\n",
    "Assuming the one inventory type, we can look at which states sell the units for the most amount of money.  \n",
    "\n",
    "If I assume similar expenses for each state, the client may find it valuable to grow their operations/focus marketing dollars in states that can sell the product at higher profit margins.  However, this analysis would be more valuable if we had expenses or profit margins by state."
   ]
  },
  {
   "cell_type": "code",
   "execution_count": 6,
   "metadata": {},
   "outputs": [
    {
     "data": {
      "text/html": [
       "<div>\n",
       "<style scoped>\n",
       "    .dataframe tbody tr th:only-of-type {\n",
       "        vertical-align: middle;\n",
       "    }\n",
       "\n",
       "    .dataframe tbody tr th {\n",
       "        vertical-align: top;\n",
       "    }\n",
       "\n",
       "    .dataframe thead th {\n",
       "        text-align: right;\n",
       "    }\n",
       "</style>\n",
       "<table border=\"1\" class=\"dataframe\">\n",
       "  <thead>\n",
       "    <tr style=\"text-align: right;\">\n",
       "      <th></th>\n",
       "      <th>Price Per Unit</th>\n",
       "    </tr>\n",
       "    <tr>\n",
       "      <th>Orders Shipping State</th>\n",
       "      <th></th>\n",
       "    </tr>\n",
       "  </thead>\n",
       "  <tbody>\n",
       "    <tr>\n",
       "      <th>SD</th>\n",
       "      <td>$68.00</td>\n",
       "    </tr>\n",
       "    <tr>\n",
       "      <th>RI</th>\n",
       "      <td>$45.00</td>\n",
       "    </tr>\n",
       "    <tr>\n",
       "      <th>OK</th>\n",
       "      <td>$44.20</td>\n",
       "    </tr>\n",
       "    <tr>\n",
       "      <th>AZ</th>\n",
       "      <td>$43.38</td>\n",
       "    </tr>\n",
       "    <tr>\n",
       "      <th>GA</th>\n",
       "      <td>$43.08</td>\n",
       "    </tr>\n",
       "    <tr>\n",
       "      <th>KS</th>\n",
       "      <td>$42.44</td>\n",
       "    </tr>\n",
       "    <tr>\n",
       "      <th>ND</th>\n",
       "      <td>$40.92</td>\n",
       "    </tr>\n",
       "    <tr>\n",
       "      <th>NM</th>\n",
       "      <td>$37.77</td>\n",
       "    </tr>\n",
       "    <tr>\n",
       "      <th>NY</th>\n",
       "      <td>$37.08</td>\n",
       "    </tr>\n",
       "    <tr>\n",
       "      <th>TN</th>\n",
       "      <td>$35.17</td>\n",
       "    </tr>\n",
       "    <tr>\n",
       "      <th>IL</th>\n",
       "      <td>$33.54</td>\n",
       "    </tr>\n",
       "    <tr>\n",
       "      <th>IA</th>\n",
       "      <td>$33.51</td>\n",
       "    </tr>\n",
       "    <tr>\n",
       "      <th>MA</th>\n",
       "      <td>$33.26</td>\n",
       "    </tr>\n",
       "    <tr>\n",
       "      <th>PA</th>\n",
       "      <td>$33.03</td>\n",
       "    </tr>\n",
       "    <tr>\n",
       "      <th>CO</th>\n",
       "      <td>$32.74</td>\n",
       "    </tr>\n",
       "    <tr>\n",
       "      <th>MI</th>\n",
       "      <td>$32.30</td>\n",
       "    </tr>\n",
       "    <tr>\n",
       "      <th>WI</th>\n",
       "      <td>$31.81</td>\n",
       "    </tr>\n",
       "    <tr>\n",
       "      <th>MO</th>\n",
       "      <td>$31.76</td>\n",
       "    </tr>\n",
       "    <tr>\n",
       "      <th>TX</th>\n",
       "      <td>$31.41</td>\n",
       "    </tr>\n",
       "    <tr>\n",
       "      <th>NJ</th>\n",
       "      <td>$31.19</td>\n",
       "    </tr>\n",
       "    <tr>\n",
       "      <th>AL</th>\n",
       "      <td>$31.18</td>\n",
       "    </tr>\n",
       "    <tr>\n",
       "      <th>MN</th>\n",
       "      <td>$31.13</td>\n",
       "    </tr>\n",
       "    <tr>\n",
       "      <th>CA</th>\n",
       "      <td>$31.04</td>\n",
       "    </tr>\n",
       "    <tr>\n",
       "      <th>IN</th>\n",
       "      <td>$31.00</td>\n",
       "    </tr>\n",
       "    <tr>\n",
       "      <th>NC</th>\n",
       "      <td>$30.85</td>\n",
       "    </tr>\n",
       "    <tr>\n",
       "      <th>WA</th>\n",
       "      <td>$30.84</td>\n",
       "    </tr>\n",
       "    <tr>\n",
       "      <th>CT</th>\n",
       "      <td>$30.53</td>\n",
       "    </tr>\n",
       "    <tr>\n",
       "      <th>VA</th>\n",
       "      <td>$30.28</td>\n",
       "    </tr>\n",
       "    <tr>\n",
       "      <th>NV</th>\n",
       "      <td>$30.27</td>\n",
       "    </tr>\n",
       "    <tr>\n",
       "      <th>AR</th>\n",
       "      <td>$29.67</td>\n",
       "    </tr>\n",
       "    <tr>\n",
       "      <th>FL</th>\n",
       "      <td>$28.97</td>\n",
       "    </tr>\n",
       "    <tr>\n",
       "      <th>AK</th>\n",
       "      <td>$28.48</td>\n",
       "    </tr>\n",
       "    <tr>\n",
       "      <th>MD</th>\n",
       "      <td>$28.47</td>\n",
       "    </tr>\n",
       "    <tr>\n",
       "      <th>ME</th>\n",
       "      <td>$28.08</td>\n",
       "    </tr>\n",
       "    <tr>\n",
       "      <th>OR</th>\n",
       "      <td>$28.05</td>\n",
       "    </tr>\n",
       "    <tr>\n",
       "      <th>OH</th>\n",
       "      <td>$27.28</td>\n",
       "    </tr>\n",
       "    <tr>\n",
       "      <th>NH</th>\n",
       "      <td>$27.28</td>\n",
       "    </tr>\n",
       "    <tr>\n",
       "      <th>KY</th>\n",
       "      <td>$27.00</td>\n",
       "    </tr>\n",
       "    <tr>\n",
       "      <th>UT</th>\n",
       "      <td>$26.17</td>\n",
       "    </tr>\n",
       "    <tr>\n",
       "      <th>DC</th>\n",
       "      <td>$25.97</td>\n",
       "    </tr>\n",
       "    <tr>\n",
       "      <th>SC</th>\n",
       "      <td>$25.04</td>\n",
       "    </tr>\n",
       "    <tr>\n",
       "      <th>WY</th>\n",
       "      <td>$22.13</td>\n",
       "    </tr>\n",
       "  </tbody>\n",
       "</table>\n",
       "</div>"
      ],
      "text/plain": [
       "                      Price Per Unit\n",
       "Orders Shipping State               \n",
       "SD                            $68.00\n",
       "RI                            $45.00\n",
       "OK                            $44.20\n",
       "AZ                            $43.38\n",
       "GA                            $43.08\n",
       "KS                            $42.44\n",
       "ND                            $40.92\n",
       "NM                            $37.77\n",
       "NY                            $37.08\n",
       "TN                            $35.17\n",
       "IL                            $33.54\n",
       "IA                            $33.51\n",
       "MA                            $33.26\n",
       "PA                            $33.03\n",
       "CO                            $32.74\n",
       "MI                            $32.30\n",
       "WI                            $31.81\n",
       "MO                            $31.76\n",
       "TX                            $31.41\n",
       "NJ                            $31.19\n",
       "AL                            $31.18\n",
       "MN                            $31.13\n",
       "CA                            $31.04\n",
       "IN                            $31.00\n",
       "NC                            $30.85\n",
       "WA                            $30.84\n",
       "CT                            $30.53\n",
       "VA                            $30.28\n",
       "NV                            $30.27\n",
       "AR                            $29.67\n",
       "FL                            $28.97\n",
       "AK                            $28.48\n",
       "MD                            $28.47\n",
       "ME                            $28.08\n",
       "OR                            $28.05\n",
       "OH                            $27.28\n",
       "NH                            $27.28\n",
       "KY                            $27.00\n",
       "UT                            $26.17\n",
       "DC                            $25.97\n",
       "SC                            $25.04\n",
       "WY                            $22.13"
      ]
     },
     "execution_count": 6,
     "metadata": {},
     "output_type": "execute_result"
    }
   ],
   "source": [
    "# Finding price per unit as Cart Value/ Line Items Count, by State\n",
    "price_per_product = df.groupby('Orders Shipping State').sum()[['Orders Line Items Count','Orders Cart Value']]\n",
    "price_per_product['Price Per Unit'] = price_per_product['Orders Cart Value']/price_per_product['Orders Line Items Count']\n",
    "price_per_product['Price Per Unit'] = price_per_product['Price Per Unit'].apply(lambda x: '${:,.2f}'.format(x))\n",
    "price_per_product.drop(['Orders Line Items Count', 'Orders Cart Value'], axis=1).sort_values(by='Price Per Unit', ascending=False)"
   ]
  },
  {
   "cell_type": "markdown",
   "metadata": {},
   "source": [
    "## Which Zip Code areas have the highest price per unit?\n",
    "\n",
    "Similar thought process to above.  Client may want to focus marketing dollars on zip codes/ zipcode groups that may allow the highest profit margin\n",
    "\n",
    "Without enriching the zip codes any further (at this point), we'll group zip codes with the same first 3 digits together to create a zip code area"
   ]
  },
  {
   "cell_type": "code",
   "execution_count": 89,
   "metadata": {},
   "outputs": [
    {
     "data": {
      "text/html": [
       "<div>\n",
       "<style scoped>\n",
       "    .dataframe tbody tr th:only-of-type {\n",
       "        vertical-align: middle;\n",
       "    }\n",
       "\n",
       "    .dataframe tbody tr th {\n",
       "        vertical-align: top;\n",
       "    }\n",
       "\n",
       "    .dataframe thead th {\n",
       "        text-align: right;\n",
       "    }\n",
       "</style>\n",
       "<table border=\"1\" class=\"dataframe\">\n",
       "  <thead>\n",
       "    <tr style=\"text-align: right;\">\n",
       "      <th></th>\n",
       "      <th>Price Per Unit</th>\n",
       "    </tr>\n",
       "    <tr>\n",
       "      <th>Zipgroup</th>\n",
       "      <th></th>\n",
       "    </tr>\n",
       "  </thead>\n",
       "  <tbody>\n",
       "    <tr>\n",
       "      <th>307</th>\n",
       "      <td>$81.33</td>\n",
       "    </tr>\n",
       "    <tr>\n",
       "      <th>811</th>\n",
       "      <td>$68.00</td>\n",
       "    </tr>\n",
       "    <tr>\n",
       "      <th>574</th>\n",
       "      <td>$68.00</td>\n",
       "    </tr>\n",
       "    <tr>\n",
       "      <th>919</th>\n",
       "      <td>$68.00</td>\n",
       "    </tr>\n",
       "    <tr>\n",
       "      <th>376</th>\n",
       "      <td>$68.00</td>\n",
       "    </tr>\n",
       "    <tr>\n",
       "      <th>956</th>\n",
       "      <td>$64.00</td>\n",
       "    </tr>\n",
       "    <tr>\n",
       "      <th>105</th>\n",
       "      <td>$59.32</td>\n",
       "    </tr>\n",
       "    <tr>\n",
       "      <th>141</th>\n",
       "      <td>$59.16</td>\n",
       "    </tr>\n",
       "    <tr>\n",
       "      <th>023</th>\n",
       "      <td>$57.80</td>\n",
       "    </tr>\n",
       "    <tr>\n",
       "      <th>026</th>\n",
       "      <td>$57.80</td>\n",
       "    </tr>\n",
       "  </tbody>\n",
       "</table>\n",
       "</div>"
      ],
      "text/plain": [
       "         Price Per Unit\n",
       "Zipgroup               \n",
       "307              $81.33\n",
       "811              $68.00\n",
       "574              $68.00\n",
       "919              $68.00\n",
       "376              $68.00\n",
       "956              $64.00\n",
       "105              $59.32\n",
       "141              $59.16\n",
       "023              $57.80\n",
       "026              $57.80"
      ]
     },
     "execution_count": 89,
     "metadata": {},
     "output_type": "execute_result"
    }
   ],
   "source": [
    "# Adding zip code group to the DF as first 3 numbers in zipcode\n",
    "df['Zipgroup'] = df['Orders Shipping Zipcode'].apply(lambda x: x[:3])\n",
    "\n",
    "# Finding price per unit as Cart Value/ Line Items Count, by zip code group\n",
    "# Showing top ten PPU by zip code group\n",
    "price_per_product_by_zip = df.groupby('Zipgroup').sum()[['Orders Line Items Count','Orders Cart Value']]\n",
    "price_per_product_by_zip['Price Per Unit'] = price_per_product_by_zip['Orders Cart Value']/price_per_product_by_zip['Orders Line Items Count']\n",
    "price_per_product_by_zip['Price Per Unit'] = price_per_product_by_zip['Price Per Unit'].apply(lambda x: '${:,.2f}'.format(x))\n",
    "top10_zips = price_per_product_by_zip.drop(['Orders Line Items Count', 'Orders Cart Value'], axis=1).sort_values(by='Price Per Unit', ascending=False)[:10]\n",
    "top10_zips"
   ]
  },
  {
   "cell_type": "code",
   "execution_count": 156,
   "metadata": {},
   "outputs": [
    {
     "data": {
      "text/plain": [
       "{'CA', 'CO', 'GA', 'MA', 'NY', 'SD', 'TN'}"
      ]
     },
     "execution_count": 156,
     "metadata": {},
     "output_type": "execute_result"
    }
   ],
   "source": [
    "# States associated with top 10 PPUs by zip code group\n",
    "set(df[df['Zipgroup'].isin(top10_zips.index.tolist())]['Orders Shipping State'])"
   ]
  },
  {
   "cell_type": "markdown",
   "metadata": {},
   "source": [
    "## Can median household income by zipcode guide business?\n",
    "\n",
    "Enriched Zipcodes with Median Household Income.  Looking for the zip codes with the highest median income.  These zip codes may have more expendable income, so may be valuable to focus marketing in these areas."
   ]
  },
  {
   "cell_type": "code",
   "execution_count": 98,
   "metadata": {},
   "outputs": [
    {
     "name": "stdout",
     "output_type": "stream",
     "text": [
      "Top 5% of Median Household Zipcodes\n",
      "    Orders Shipping Zipcode  Median Income\n",
      "45                    10514       202414.0\n",
      "81                    20854       192648.0\n",
      "25                    06840       161848.0\n",
      "23                    06807       141371.0\n",
      "91                    22205       140819.0\n",
      "77                    20143       139938.0\n",
      "273                   90266       139259.0\n",
      "327                   94707       138144.0\n",
      "24                    06831       130075.0\n",
      "2                     01778       130022.0\n",
      "79                    20155       127974.0\n",
      "336                   95746       127736.0\n",
      "215                   77494       126425.0\n",
      "305                   92887       125265.0\n",
      "323                   94526       124511.0\n",
      "319                   94301       122473.0\n",
      "78                    20147       122115.0\n",
      "229                   80108       120159.0\n",
      "338                   95762       119382.0\n"
     ]
    },
    {
     "data": {
      "image/png": "[encoded data removed]",
      "text/plain": [
       "<Figure size 432x288 with 1 Axes>"
      ]
     },
     "metadata": {
      "needs_background": "light"
     },
     "output_type": "display_data"
    }
   ],
   "source": [
    "# Search engine for zip code enrichment\n",
    "search = SearchEngine(simple_zipcode = True)\n",
    "\n",
    "# Create DF of all zip codes where client has done business\n",
    "# Add Median Household Income to the zip code df\n",
    "# Remove any null values\n",
    "# Turn incomes into floats (from strings)\n",
    "all_zips = df.drop('Orders Order Number', axis=1).groupby('Orders Shipping Zipcode').sum().reset_index(drop=False)\n",
    "all_zips['Median Income'] = all_zips['Orders Shipping Zipcode'].apply(lambda x: search.by_zipcode(x).to_dict()['median_household_income'])\n",
    "all_zips.dropna(inplace=True)\n",
    "all_zips['Median Income'] = all_zips['Median Income'].apply(lambda x: round(float(x), 2))\n",
    "\n",
    "#plot distribution of incomes\n",
    "plt.title('Distribution of Median Income')\n",
    "sns.distplot(all_zips['Median Income']);\n",
    "\n",
    "# Show top 5% of median incomes by zip code\n",
    "med_incomes = all_zips.drop(['Orders Line Items Count', 'Orders Cart Value'], axis = 1).sort_values(by='Median Income', ascending=False)\n",
    "print('Top 5% of Median Household Zipcodes')\n",
    "print(med_incomes[:round(.05*(len(all_zips['Median Income'])))])"
   ]
  },
  {
   "cell_type": "code",
   "execution_count": null,
   "metadata": {},
   "outputs": [],
   "source": []
  }
 ],
 "metadata": {
  "kernelspec": {
   "display_name": "Python 3",
   "language": "python",
   "name": "python3"
  },
  "language_info": {
   "codemirror_mode": {
    "name": "ipython",
    "version": 3
   },
   "file_extension": ".py",
   "mimetype": "text/x-python",
   "name": "python",
   "nbconvert_exporter": "python",
   "pygments_lexer": "ipython3",
   "version": "3.7.2"
  },
  "toc": {
   "base_numbering": 1,
   "nav_menu": {},
   "number_sections": true,
   "sideBar": true,
   "skip_h1_title": false,
   "title_cell": "Table of Contents",
   "title_sidebar": "Contents",
   "toc_cell": false,
   "toc_position": {},
   "toc_section_display": true,
   "toc_window_display": false
  },
  "varInspector": {
   "cols": {
    "lenName": 16,
    "lenType": 16,
    "lenVar": 40
   },
   "kernels_config": {
    "python": {
     "delete_cmd_postfix": "",
     "delete_cmd_prefix": "del ",
     "library": "var_list.py",
     "varRefreshCmd": "print(var_dic_list())"
    },
    "r": {
     "delete_cmd_postfix": ") ",
     "delete_cmd_prefix": "rm(",
     "library": "var_list.r",
     "varRefreshCmd": "cat(var_dic_list()) "
    }
   },
   "types_to_exclude": [
    "module",
    "function",
    "builtin_function_or_method",
    "instance",
    "_Feature"
   ],
   "window_display": false
  }
 },
 "nbformat": 4,
 "nbformat_minor": 2
}
